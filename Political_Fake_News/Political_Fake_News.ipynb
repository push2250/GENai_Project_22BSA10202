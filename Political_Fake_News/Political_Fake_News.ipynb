{
 "cells": [
  {
   "cell_type": "code",
   "execution_count": 1,
   "metadata": {
    "colab_type": "text",
    "id": "view-in-github"
   },
   "outputs": [
    {
     "name": "stdout",
     "output_type": "stream",
     "text": [
      "Note: you may need to restart the kernel to use updated packages.\n"
     ]
    },
    {
     "name": "stderr",
     "output_type": "stream",
     "text": [
      "ERROR: Could not find a version that satisfies the requirement tensorflow (from versions: none)\n",
      "\n",
      "[notice] A new release of pip is available: 25.0.1 -> 25.1\n",
      "[notice] To update, run: python.exe -m pip install --upgrade pip\n",
      "ERROR: No matching distribution found for tensorflow\n"
     ]
    }
   ],
   "source": [
    "pip install tensorflow"
   ]
  },
  {
   "cell_type": "code",
   "execution_count": 2,
   "metadata": {
    "colab": {
     "base_uri": "https://localhost:8080/",
     "height": 101
    },
    "colab_type": "code",
    "id": "hsoMvQHMUudq",
    "outputId": "8cac018a-95d4-494b-a6f4-49f93581b2f9"
   },
   "outputs": [
    {
     "name": "stderr",
     "output_type": "stream",
     "text": [
      "UsageError: Line magic function `%tensorflow_version` not found.\n"
     ]
    }
   ],
   "source": [
    "%tensorflow_version 2.0"
   ]
  },
  {
   "cell_type": "code",
   "execution_count": 3,
   "metadata": {
    "colab": {
     "base_uri": "https://localhost:8080/",
     "height": 34
    },
    "colab_type": "code",
    "id": "ggYnucEeU-2I",
    "outputId": "46514504-2519-4feb-b89d-bc82909b69a9"
   },
   "outputs": [
    {
     "ename": "ModuleNotFoundError",
     "evalue": "No module named 'tensorflow'",
     "output_type": "error",
     "traceback": [
      "\u001b[31m---------------------------------------------------------------------------\u001b[39m",
      "\u001b[31mModuleNotFoundError\u001b[39m                       Traceback (most recent call last)",
      "\u001b[36mCell\u001b[39m\u001b[36m \u001b[39m\u001b[32mIn[3]\u001b[39m\u001b[32m, line 1\u001b[39m\n\u001b[32m----> \u001b[39m\u001b[32m1\u001b[39m \u001b[38;5;28;01mimport\u001b[39;00m\u001b[38;5;250m \u001b[39m\u001b[34;01mtensorflow\u001b[39;00m\u001b[38;5;250m \u001b[39m\u001b[38;5;28;01mas\u001b[39;00m\u001b[38;5;250m \u001b[39m\u001b[34;01mtf\u001b[39;00m\n\u001b[32m      2\u001b[39m \u001b[38;5;28mprint\u001b[39m(tf.__version__)\n",
      "\u001b[31mModuleNotFoundError\u001b[39m: No module named 'tensorflow'"
     ]
    }
   ],
   "source": [
    "import tensorflow as tf\n",
    "print(tf.__version__)"
   ]
  },
  {
   "cell_type": "code",
   "execution_count": null,
   "metadata": {
    "colab": {
     "base_uri": "https://localhost:8080/",
     "height": 504
    },
    "colab_type": "code",
    "id": "4K8fpRm7VF6z",
    "outputId": "8fb4ba7b-d823-419b-c0c7-00fac02965bb"
   },
   "outputs": [
    {
     "name": "stdout",
     "output_type": "stream",
     "text": [
      "\u001b[K     |████████████████████████████████| 25.2MB 41.0MB/s \n",
      "\u001b[K     |████████████████████████████████| 6.7MB 51.3MB/s \n",
      "\u001b[K     |████████████████████████████████| 10.1MB 44.4MB/s \n",
      "\u001b[K     |████████████████████████████████| 983kB 59.7MB/s \n",
      "\u001b[K     |████████████████████████████████| 245kB 42.4MB/s \n",
      "\u001b[K     |████████████████████████████████| 1.8MB 62.3MB/s \n",
      "\u001b[K     |████████████████████████████████| 501kB 57.7MB/s \n",
      "\u001b[K     |████████████████████████████████| 3.7MB 56.2MB/s \n",
      "\u001b[K     |████████████████████████████████| 1.0MB 51.1MB/s \n",
      "\u001b[K     |████████████████████████████████| 870kB 54.6MB/s \n",
      "\u001b[?25h  Building wheel for ktrain (setup.py) ... \u001b[?25l\u001b[?25hdone\n",
      "  Building wheel for keras-bert (setup.py) ... \u001b[?25l\u001b[?25hdone\n",
      "  Building wheel for langdetect (setup.py) ... \u001b[?25l\u001b[?25hdone\n",
      "  Building wheel for networkx (setup.py) ... \u001b[?25l\u001b[?25hdone\n",
      "  Building wheel for seqeval (setup.py) ... \u001b[?25l\u001b[?25hdone\n",
      "  Building wheel for syntok (setup.py) ... \u001b[?25l\u001b[?25hdone\n",
      "  Building wheel for keras-transformer (setup.py) ... \u001b[?25l\u001b[?25hdone\n",
      "  Building wheel for sacremoses (setup.py) ... \u001b[?25l\u001b[?25hdone\n",
      "  Building wheel for keras-pos-embd (setup.py) ... \u001b[?25l\u001b[?25hdone\n",
      "  Building wheel for keras-multi-head (setup.py) ... \u001b[?25l\u001b[?25hdone\n",
      "  Building wheel for keras-layer-normalization (setup.py) ... \u001b[?25l\u001b[?25hdone\n",
      "  Building wheel for keras-position-wise-feed-forward (setup.py) ... \u001b[?25l\u001b[?25hdone\n",
      "  Building wheel for keras-embed-sim (setup.py) ... \u001b[?25l\u001b[?25hdone\n",
      "  Building wheel for keras-self-attention (setup.py) ... \u001b[?25l\u001b[?25hdone\n",
      "\u001b[31mERROR: google-colab 1.0.0 has requirement google-auth~=1.7.2, but you'll have google-auth 1.11.2 which is incompatible.\u001b[0m\n",
      "\u001b[31mERROR: google-colab 1.0.0 has requirement pandas~=0.25.0; python_version >= \"3.0\", but you'll have pandas 1.0.1 which is incompatible.\u001b[0m\n",
      "\u001b[31mERROR: google-colab 1.0.0 has requirement requests~=2.21.0, but you'll have requests 2.23.0 which is incompatible.\u001b[0m\n",
      "\u001b[31mERROR: google-colab 1.0.0 has requirement six~=1.12.0, but you'll have six 1.14.0 which is incompatible.\u001b[0m\n",
      "\u001b[31mERROR: albumentations 0.1.12 has requirement imgaug<0.2.7,>=0.2.5, but you'll have imgaug 0.2.9 which is incompatible.\u001b[0m\n"
     ]
    }
   ],
   "source": [
    "!pip3 install -q ktrain"
   ]
  },
  {
   "cell_type": "code",
   "execution_count": null,
   "metadata": {
    "colab": {
     "base_uri": "https://localhost:8080/",
     "height": 34
    },
    "colab_type": "code",
    "id": "0PJZgoOIVMVF",
    "outputId": "a5271a09-0508-4abd-f907-9cb15432dc6a"
   },
   "outputs": [
    {
     "name": "stdout",
     "output_type": "stream",
     "text": [
      "Drive already mounted at /content/drive; to attempt to forcibly remount, call drive.mount(\"/content/drive\", force_remount=True).\n"
     ]
    }
   ],
   "source": [
    "from google.colab import drive\n",
    "drive.mount('/content/drive')"
   ]
  },
  {
   "cell_type": "code",
   "execution_count": null,
   "metadata": {
    "colab": {
     "base_uri": "https://localhost:8080/",
     "height": 34
    },
    "colab_type": "code",
    "id": "7edqaEQyVMYk",
    "outputId": "f9dfb2b8-28f6-49d6-8c7e-563e7f510169"
   },
   "outputs": [
    {
     "name": "stdout",
     "output_type": "stream",
     "text": [
      "/content/drive/My Drive/bert1\n"
     ]
    }
   ],
   "source": [
    "%cd 'drive/My Drive/bert1'"
   ]
  },
  {
   "cell_type": "code",
   "execution_count": null,
   "metadata": {
    "colab": {},
    "colab_type": "code",
    "id": "Hc3h23ojWCZf"
   },
   "outputs": [],
   "source": [
    "import pandas as pd\n",
    "from tqdm import tqdm_notebook"
   ]
  },
  {
   "cell_type": "code",
   "execution_count": null,
   "metadata": {
    "colab": {},
    "colab_type": "code",
    "id": "hkJs4VCdVF_o"
   },
   "outputs": [],
   "source": [
    "train = pd.read_csv('t.csv')"
   ]
  },
  {
   "cell_type": "code",
   "execution_count": null,
   "metadata": {
    "colab": {
     "base_uri": "https://localhost:8080/",
     "height": 402
    },
    "colab_type": "code",
    "id": "6LWV344rVGCB",
    "outputId": "007e8b6e-77b5-4bfe-851f-88872eeeccb3"
   },
   "outputs": [
    {
     "data": {
      "text/html": [
       "<div>\n",
       "<style scoped>\n",
       "    .dataframe tbody tr th:only-of-type {\n",
       "        vertical-align: middle;\n",
       "    }\n",
       "\n",
       "    .dataframe tbody tr th {\n",
       "        vertical-align: top;\n",
       "    }\n",
       "\n",
       "    .dataframe thead th {\n",
       "        text-align: right;\n",
       "    }\n",
       "</style>\n",
       "<table border=\"1\" class=\"dataframe\">\n",
       "  <thead>\n",
       "    <tr style=\"text-align: right;\">\n",
       "      <th></th>\n",
       "      <th>Unnamed: 0</th>\n",
       "      <th>label</th>\n",
       "      <th>statement</th>\n",
       "      <th>description</th>\n",
       "      <th>concatenate</th>\n",
       "    </tr>\n",
       "  </thead>\n",
       "  <tbody>\n",
       "    <tr>\n",
       "      <th>0</th>\n",
       "      <td>0</td>\n",
       "      <td>0</td>\n",
       "      <td>Says James Clapper \"and virtually everyone els...</td>\n",
       "      <td>Trump said, \"When James Clapper himself, and v...</td>\n",
       "      <td>Says James Clapper \"and virtually everyone els...</td>\n",
       "    </tr>\n",
       "    <tr>\n",
       "      <th>1</th>\n",
       "      <td>1</td>\n",
       "      <td>0</td>\n",
       "      <td>Says Barack Obama complained that Democrats co...</td>\n",
       "      <td>Great America Alliance said that Obama complai...</td>\n",
       "      <td>Says Barack Obama complained that Democrats co...</td>\n",
       "    </tr>\n",
       "    <tr>\n",
       "      <th>2</th>\n",
       "      <td>2</td>\n",
       "      <td>0</td>\n",
       "      <td>\"The new Rasmussen Poll, one of the most accur...</td>\n",
       "      <td>Trump said, \"The new Rasmussen Poll, one of th...</td>\n",
       "      <td>\"The new Rasmussen Poll, one of the most accur...</td>\n",
       "    </tr>\n",
       "    <tr>\n",
       "      <th>3</th>\n",
       "      <td>3</td>\n",
       "      <td>1</td>\n",
       "      <td>\"The Kingdom of Saudi Arabia, whose government...</td>\n",
       "      <td>Racine said the Saudi government has already s...</td>\n",
       "      <td>\"The Kingdom of Saudi Arabia, whose government...</td>\n",
       "    </tr>\n",
       "    <tr>\n",
       "      <th>4</th>\n",
       "      <td>4</td>\n",
       "      <td>1</td>\n",
       "      <td>\"There are currently 6 million jobs available ...</td>\n",
       "      <td>Trump said, \"There are currently 6 million job...</td>\n",
       "      <td>\"There are currently 6 million jobs available ...</td>\n",
       "    </tr>\n",
       "    <tr>\n",
       "      <th>...</th>\n",
       "      <td>...</td>\n",
       "      <td>...</td>\n",
       "      <td>...</td>\n",
       "      <td>...</td>\n",
       "      <td>...</td>\n",
       "    </tr>\n",
       "    <tr>\n",
       "      <th>23133</th>\n",
       "      <td>23133</td>\n",
       "      <td>1</td>\n",
       "      <td>Says his budget provides the highest state fun...</td>\n",
       "      <td>LeMieux didn't compare Rubio and Obama on an i...</td>\n",
       "      <td>Says his budget provides the highest state fun...</td>\n",
       "    </tr>\n",
       "    <tr>\n",
       "      <th>23134</th>\n",
       "      <td>23134</td>\n",
       "      <td>0</td>\n",
       "      <td>Ive been here almost every day.</td>\n",
       "      <td>After making his pledge, Obama said the budget...</td>\n",
       "      <td>Ive been here almost every day.&lt;&gt;After making ...</td>\n",
       "    </tr>\n",
       "    <tr>\n",
       "      <th>23135</th>\n",
       "      <td>23135</td>\n",
       "      <td>0</td>\n",
       "      <td>In the early 1980s, Sen. Edward Kennedy secret...</td>\n",
       "      <td>Former President Clinton said government got t...</td>\n",
       "      <td>In the early 1980s, Sen. Edward Kennedy secret...</td>\n",
       "    </tr>\n",
       "    <tr>\n",
       "      <th>23136</th>\n",
       "      <td>23136</td>\n",
       "      <td>0</td>\n",
       "      <td>Says an EPA permit languished under Strickland...</td>\n",
       "      <td>Points of Light has a unique mission carved ou...</td>\n",
       "      <td>Says an EPA permit languished under Strickland...</td>\n",
       "    </tr>\n",
       "    <tr>\n",
       "      <th>23137</th>\n",
       "      <td>23137</td>\n",
       "      <td>0</td>\n",
       "      <td>Says the governor is going around the state ta...</td>\n",
       "      <td>In reality, the Affordable Care Act calls for ...</td>\n",
       "      <td>Says the governor is going around the state ta...</td>\n",
       "    </tr>\n",
       "  </tbody>\n",
       "</table>\n",
       "<p>23138 rows × 5 columns</p>\n",
       "</div>"
      ],
      "text/plain": [
       "       Unnamed: 0  ...                                        concatenate\n",
       "0               0  ...  Says James Clapper \"and virtually everyone els...\n",
       "1               1  ...  Says Barack Obama complained that Democrats co...\n",
       "2               2  ...  \"The new Rasmussen Poll, one of the most accur...\n",
       "3               3  ...  \"The Kingdom of Saudi Arabia, whose government...\n",
       "4               4  ...  \"There are currently 6 million jobs available ...\n",
       "...           ...  ...                                                ...\n",
       "23133       23133  ...  Says his budget provides the highest state fun...\n",
       "23134       23134  ...  Ive been here almost every day.<>After making ...\n",
       "23135       23135  ...  In the early 1980s, Sen. Edward Kennedy secret...\n",
       "23136       23136  ...  Says an EPA permit languished under Strickland...\n",
       "23137       23137  ...  Says the governor is going around the state ta...\n",
       "\n",
       "[23138 rows x 5 columns]"
      ]
     },
     "execution_count": 10,
     "metadata": {
      "tags": []
     },
     "output_type": "execute_result"
    }
   ],
   "source": [
    "train"
   ]
  },
  {
   "cell_type": "code",
   "execution_count": null,
   "metadata": {
    "colab": {},
    "colab_type": "code",
    "id": "UDAGlgIupu-m"
   },
   "outputs": [],
   "source": [
    "from sklearn.model_selection import train_test_split"
   ]
  },
  {
   "cell_type": "code",
   "execution_count": null,
   "metadata": {
    "colab": {},
    "colab_type": "code",
    "id": "_tdlexj-pvBM"
   },
   "outputs": [],
   "source": [
    "X_train, X_test = train_test_split(train, test_size=0.18, random_state=42)"
   ]
  },
  {
   "cell_type": "code",
   "execution_count": null,
   "metadata": {
    "colab": {},
    "colab_type": "code",
    "id": "oxTteDvgpvDk"
   },
   "outputs": [],
   "source": [
    "X_val, X_test = train_test_split(X_test, test_size=0.5, random_state=42)"
   ]
  },
  {
   "cell_type": "code",
   "execution_count": null,
   "metadata": {
    "colab": {
     "base_uri": "https://localhost:8080/",
     "height": 34
    },
    "colab_type": "code",
    "id": "3MPTJfK0qJ9y",
    "outputId": "15d260dc-92a2-4cbc-89f9-1628353fb174"
   },
   "outputs": [
    {
     "name": "stdout",
     "output_type": "stream",
     "text": [
      "train size: (18973, 5) ,validation size: (2082, 5) ,test size: (2083, 5)\n"
     ]
    }
   ],
   "source": [
    "print('train size:',X_train.shape,',validation size:',X_val.shape,',test size:',X_test.shape)"
   ]
  },
  {
   "cell_type": "code",
   "execution_count": null,
   "metadata": {
    "colab": {},
    "colab_type": "code",
    "id": "1tQFEi7buFRX"
   },
   "outputs": [],
   "source": [
    "x_train = X_train[\"concatenate\"].tolist()\n",
    "y_train = X_train[\"label\"].tolist()\n",
    "x_val = X_val[\"concatenate\"].tolist()\n",
    "y_val = X_val[\"label\"].tolist()\n",
    "x_test = X_test[\"concatenate\"].tolist()\n",
    "y_test = X_test[\"label\"].tolist()"
   ]
  },
  {
   "cell_type": "code",
   "execution_count": null,
   "metadata": {
    "colab": {
     "base_uri": "https://localhost:8080/",
     "height": 34
    },
    "colab_type": "code",
    "id": "myhob_olv3TC",
    "outputId": "46ea526d-0c0d-4297-b215-f8bb1cd04593"
   },
   "outputs": [
    {
     "name": "stdout",
     "output_type": "stream",
     "text": [
      "using Keras version: 2.2.4-tf\n"
     ]
    }
   ],
   "source": [
    "import ktrain\n",
    "from ktrain import text\n",
    "MODEL_NAME = 'bert-large-uncased'"
   ]
  },
  {
   "cell_type": "code",
   "execution_count": null,
   "metadata": {
    "colab": {
     "base_uri": "https://localhost:8080/",
     "height": 50
    },
    "colab_type": "code",
    "id": "P-jER1ZMwen3",
    "outputId": "2338983f-16e5-41d5-c675-9b7f22136333"
   },
   "outputs": [
    {
     "name": "stderr",
     "output_type": "stream",
     "text": [
      "/usr/local/lib/python3.6/dist-packages/ktrain/text/preprocessor.py:324: UserWarning: The class_names argument is replacing the classes argument. Please update your code.\n",
      "  warnings.warn('The class_names argument is replacing the classes argument. Please update your code.')\n"
     ]
    }
   ],
   "source": [
    "t = text.Transformer(MODEL_NAME, maxlen=500, classes=[0,1])"
   ]
  },
  {
   "cell_type": "code",
   "execution_count": null,
   "metadata": {
    "colab": {
     "base_uri": "https://localhost:8080/",
     "height": 118
    },
    "colab_type": "code",
    "id": "22S2I7Irwesj",
    "outputId": "4ef47914-56bf-4554-92f0-4d640cb0f40c"
   },
   "outputs": [
    {
     "name": "stdout",
     "output_type": "stream",
     "text": [
      "preprocessing train...\n",
      "language: en\n",
      "train sequence lengths:\n",
      "\tmean : 94\n",
      "\t95percentile : 161\n",
      "\t99percentile : 205\n"
     ]
    },
    {
     "data": {
      "text/html": [],
      "text/plain": [
       "<IPython.core.display.HTML object>"
      ]
     },
     "metadata": {
      "tags": []
     },
     "output_type": "display_data"
    }
   ],
   "source": [
    "trn = t.preprocess_train(x_train, y_train)"
   ]
  },
  {
   "cell_type": "code",
   "execution_count": null,
   "metadata": {
    "colab": {
     "base_uri": "https://localhost:8080/",
     "height": 118
    },
    "colab_type": "code",
    "id": "uesH6vwLwlFp",
    "outputId": "c554892e-b41a-497e-a931-15eafcd01e6b"
   },
   "outputs": [
    {
     "name": "stdout",
     "output_type": "stream",
     "text": [
      "preprocessing train...\n",
      "language: en\n",
      "train sequence lengths:\n",
      "\tmean : 94\n",
      "\t95percentile : 161\n",
      "\t99percentile : 200\n"
     ]
    },
    {
     "data": {
      "text/html": [],
      "text/plain": [
       "<IPython.core.display.HTML object>"
      ]
     },
     "metadata": {
      "tags": []
     },
     "output_type": "display_data"
    }
   ],
   "source": [
    "val = t.preprocess_train(x_val, y_val)"
   ]
  },
  {
   "cell_type": "code",
   "execution_count": null,
   "metadata": {
    "colab": {},
    "colab_type": "code",
    "id": "AQ5oKMrlwewD"
   },
   "outputs": [],
   "source": [
    "model = t.get_classifier()\n",
    "learner = ktrain.get_learner(model, train_data=trn, val_data=val, batch_size=8)"
   ]
  },
  {
   "cell_type": "code",
   "execution_count": null,
   "metadata": {
    "colab": {
     "base_uri": "https://localhost:8080/",
     "height": 202
    },
    "colab_type": "code",
    "id": "5HHDGMVfVF9U",
    "outputId": "a8f14303-d552-4691-e4b5-5c8f7c83cd20"
   },
   "outputs": [
    {
     "name": "stdout",
     "output_type": "stream",
     "text": [
      "\n",
      "\n",
      "begin training using onecycle policy with max lr of 1e-05...\n",
      "Train for 2372 steps, validate for 261 steps\n",
      "Epoch 1/3\n",
      "2372/2372 [==============================] - 1161s 490ms/step - loss: 0.6256 - accuracy: 0.6351 - val_loss: 0.5080 - val_accuracy: 0.7344\n",
      "Epoch 2/3\n",
      "2372/2372 [==============================] - 1155s 487ms/step - loss: 0.4375 - accuracy: 0.7798 - val_loss: 0.3676 - val_accuracy: 0.8074\n",
      "Epoch 3/3\n",
      "2372/2372 [==============================] - 1154s 487ms/step - loss: 0.3027 - accuracy: 0.8523 - val_loss: 0.3575 - val_accuracy: 0.8333\n"
     ]
    },
    {
     "data": {
      "text/plain": [
       "<tensorflow.python.keras.callbacks.History at 0x7fc1516945f8>"
      ]
     },
     "execution_count": 42,
     "metadata": {
      "tags": []
     },
     "output_type": "execute_result"
    }
   ],
   "source": [
    "learner.fit_onecycle(1e-5, 3)"
   ]
  },
  {
   "cell_type": "code",
   "execution_count": null,
   "metadata": {
    "colab": {},
    "colab_type": "code",
    "id": "SyqavPPupnI6"
   },
   "outputs": [],
   "source": [
    "predictor = ktrain.get_predictor(learner.model, preproc=t)"
   ]
  },
  {
   "cell_type": "code",
   "execution_count": null,
   "metadata": {
    "colab": {
     "base_uri": "https://localhost:8080/",
     "height": 54
    },
    "colab_type": "code",
    "id": "LePWCnez_qOV",
    "outputId": "0d72d751-5397-4507-88ff-d859a3a64521"
   },
   "outputs": [
    {
     "name": "stdout",
     "output_type": "stream",
     "text": [
      "Says Barack Obama complained that Democrats continue to ignore blacks except at election time.<>Great America Alliance said that Obama complained that Democrats continue to ignore blacks except at election time.               Obama did say the words used in the ad, but they weren’t his.He was quoting a Chicago barber talking about the days before African-Americans in Chicago helped elect the city’s first black mayor.               The full text from Obama’s book shows that he was arguing that voting can make a difference. Nothing in the section suggests that he thinks Democrats today only pay attention to blacks at election time.\n"
     ]
    }
   ],
   "source": [
    "statement = 'Says Barack Obama complained that Democrats continue to ignore blacks except at election time.'\n",
    "description = 'Great America Alliance said that Obama complained that Democrats continue to ignore blacks except at election time. \\\n",
    "              Obama did say the words used in the ad, but they weren’t his.He was quoting a Chicago barber talking about the days before African-Americans in Chicago helped elect the city’s first black mayor. \\\n",
    "              The full text from Obama’s book shows that he was arguing that voting can make a difference. Nothing in the section suggests that he thinks Democrats today only pay attention to blacks at election time.'\n",
    "test = statement + '<>' + description\n",
    "print(test)    "
   ]
  },
  {
   "cell_type": "code",
   "execution_count": null,
   "metadata": {
    "colab": {
     "base_uri": "https://localhost:8080/",
     "height": 34
    },
    "colab_type": "code",
    "id": "9y-BhMA-pnNZ",
    "outputId": "769ed30c-5ce6-4b63-d6c2-a86d245ca7ef"
   },
   "outputs": [
    {
     "data": {
      "text/html": [],
      "text/plain": [
       "<IPython.core.display.HTML object>"
      ]
     },
     "metadata": {
      "tags": []
     },
     "output_type": "display_data"
    },
    {
     "name": "stdout",
     "output_type": "stream",
     "text": [
      "False\n"
     ]
    }
   ],
   "source": [
    "if predictor.predict(test) is 0: \n",
    "  print('False')  # indeed it is false\n",
    "else:\n",
    "  print('True')"
   ]
  },
  {
   "cell_type": "code",
   "execution_count": null,
   "metadata": {
    "colab": {
     "base_uri": "https://localhost:8080/",
     "height": 34
    },
    "colab_type": "code",
    "id": "J10A14d8pnLU",
    "outputId": "aed6fd87-6001-4cbc-8bf5-61cdd83aaf99"
   },
   "outputs": [
    {
     "data": {
      "text/html": [],
      "text/plain": [
       "<IPython.core.display.HTML object>"
      ]
     },
     "metadata": {
      "tags": []
     },
     "output_type": "display_data"
    },
    {
     "data": {
      "text/plain": [
       "array([0.99607974, 0.00392029], dtype=float32)"
      ]
     },
     "execution_count": 51,
     "metadata": {
      "tags": []
     },
     "output_type": "execute_result"
    }
   ],
   "source": [
    "predictor.predict_proba(test)"
   ]
  },
  {
   "cell_type": "code",
   "execution_count": null,
   "metadata": {
    "colab": {
     "base_uri": "https://localhost:8080/",
     "height": 34
    },
    "colab_type": "code",
    "id": "4IHAQOMeVGEV",
    "outputId": "0a948fd5-edfd-4200-8222-3914730e1bf8"
   },
   "outputs": [
    {
     "data": {
      "text/plain": [
       "[0, 1]"
      ]
     },
     "execution_count": 52,
     "metadata": {
      "tags": []
     },
     "output_type": "execute_result"
    }
   ],
   "source": [
    "predictor.get_classes()"
   ]
  },
  {
   "cell_type": "code",
   "execution_count": null,
   "metadata": {
    "colab": {
     "base_uri": "https://localhost:8080/",
     "height": 17
    },
    "colab_type": "code",
    "id": "ueN1jGELzLBW",
    "outputId": "7f6a7cc8-aa9a-4220-bcc4-c4ac57433c07"
   },
   "outputs": [
    {
     "data": {
      "text/html": [],
      "text/plain": [
       "<IPython.core.display.HTML object>"
      ]
     },
     "metadata": {
      "tags": []
     },
     "output_type": "display_data"
    }
   ],
   "source": [
    "pred = predictor.predict(x_test)"
   ]
  },
  {
   "cell_type": "code",
   "execution_count": null,
   "metadata": {
    "colab": {
     "base_uri": "https://localhost:8080/",
     "height": 34
    },
    "colab_type": "code",
    "id": "eHcna751DSp-",
    "outputId": "bf154f19-f4b3-408f-c5d0-6946a2766471"
   },
   "outputs": [
    {
     "name": "stdout",
     "output_type": "stream",
     "text": [
      "The Accuracy of the test set is 80.31685069611137\n"
     ]
    }
   ],
   "source": [
    "j = 0\n",
    "s = 0\n",
    "for i in pred:\n",
    "  if(i==y_test[j]):\n",
    "    s+=1\n",
    "  j+=1\n",
    "print('The Accuracy of the test set is',s/2083*100)"
   ]
  },
  {
   "cell_type": "code",
   "execution_count": null,
   "metadata": {
    "colab": {},
    "colab_type": "code",
    "id": "7pJ8JlzWxU1i"
   },
   "outputs": [],
   "source": [
    "predictor.save('my_distilbert_predictor')"
   ]
  },
  {
   "cell_type": "code",
   "execution_count": null,
   "metadata": {
    "colab": {},
    "colab_type": "code",
    "id": "mtekUrEVxU4G"
   },
   "outputs": [],
   "source": [
    "reloaded_predictor = ktrain.load_predictor('my_distilbert_predictor')"
   ]
  },
  {
   "cell_type": "markdown",
   "metadata": {
    "colab_type": "text",
    "id": "9lXeY1cSHPMM"
   },
   "source": [
    "### **Prediction**"
   ]
  },
  {
   "cell_type": "code",
   "execution_count": null,
   "metadata": {
    "cellView": "form",
    "colab": {
     "base_uri": "https://localhost:8080/",
     "height": 166,
     "referenced_widgets": [
      "8fb97266fa8b4687a59caf783d5336ac",
      "5727d2d4af66401eaff4d6d2673eedab",
      "2e86d4c2627c46d0ba9056cfc6b22f0c",
      "8c9ed6ac0d314ca282f570074de0d735"
     ]
    },
    "colab_type": "code",
    "id": "ipBEpxSpxU6G",
    "outputId": "b9fe95f3-d715-4f8d-b620-052d39b7fe06"
   },
   "outputs": [
    {
     "data": {
      "application/vnd.jupyter.widget-view+json": {
       "model_id": "8fb97266fa8b4687a59caf783d5336ac",
       "version_major": 2,
       "version_minor": 0
      },
      "text/plain": [
       "Button(description='Enter', style=ButtonStyle())"
      ]
     },
     "metadata": {
      "tags": []
     },
     "output_type": "display_data"
    },
    {
     "data": {
      "application/vnd.jupyter.widget-view+json": {
       "model_id": "8c9ed6ac0d314ca282f570074de0d735",
       "version_major": 2,
       "version_minor": 0
      },
      "text/plain": [
       "Output()"
      ]
     },
     "metadata": {
      "tags": []
     },
     "output_type": "display_data"
    }
   ],
   "source": [
    "#@title Prediction\n",
    "statement = 'some person in campus has reported symptom of COVID 19 virus. ' #@param {type:\"string\"}\n",
    "description = 'So far no person (student / faculty member / staff) in the campus has reported any symptom of COVID 19 virus. ' #@param {type:\"string\"}\n",
    "test = statement + '<>' + description\n",
    "import ipywidgets as widgets\n",
    "from IPython.display import display\n",
    "button = widgets.Button(description=\"Enter\")\n",
    "output = widgets.Output()\n",
    "\n",
    "def on_button_clicked(b):\n",
    "  # Display the message within the output widget.\n",
    "  with output:\n",
    "    if reloaded_predictor.predict(test) is 0: \n",
    "      print('False')  \n",
    "    else:\n",
    "      print('True')\n",
    "\n",
    "button.on_click(on_button_clicked)\n",
    "display(button, output)\n"
   ]
  },
  {
   "cell_type": "code",
   "execution_count": null,
   "metadata": {
    "colab": {},
    "colab_type": "code",
    "id": "nO2nH1-LxU8d"
   },
   "outputs": [],
   "source": []
  }
 ],
 "metadata": {
  "accelerator": "GPU",
  "colab": {
   "authorship_tag": "ABX9TyNGOulKxBBT/Ni6NfPXir1i",
   "collapsed_sections": [],
   "include_colab_link": true,
   "mount_file_id": "1DmPWC-8uNK1ibct71fP61lB33WpSrpxN",
   "name": "Political Fake News.ipynb",
   "provenance": []
  },
  "kernelspec": {
   "display_name": "Python 3 (ipykernel)",
   "language": "python",
   "name": "python3"
  },
  "language_info": {
   "codemirror_mode": {
    "name": "ipython",
    "version": 3
   },
   "file_extension": ".py",
   "mimetype": "text/x-python",
   "name": "python",
   "nbconvert_exporter": "python",
   "pygments_lexer": "ipython3",
   "version": "3.13.3"
  },
  "widgets": {
   "application/vnd.jupyter.widget-state+json": {
    "2e86d4c2627c46d0ba9056cfc6b22f0c": {
     "model_module": "@jupyter-widgets/base",
     "model_name": "LayoutModel",
     "state": {
      "_model_module": "@jupyter-widgets/base",
      "_model_module_version": "1.2.0",
      "_model_name": "LayoutModel",
      "_view_count": null,
      "_view_module": "@jupyter-widgets/base",
      "_view_module_version": "1.2.0",
      "_view_name": "LayoutView",
      "align_content": null,
      "align_items": null,
      "align_self": null,
      "border": null,
      "bottom": null,
      "display": null,
      "flex": null,
      "flex_flow": null,
      "grid_area": null,
      "grid_auto_columns": null,
      "grid_auto_flow": null,
      "grid_auto_rows": null,
      "grid_column": null,
      "grid_gap": null,
      "grid_row": null,
      "grid_template_areas": null,
      "grid_template_columns": null,
      "grid_template_rows": null,
      "height": null,
      "justify_content": null,
      "justify_items": null,
      "left": null,
      "margin": null,
      "max_height": null,
      "max_width": null,
      "min_height": null,
      "min_width": null,
      "object_fit": null,
      "object_position": null,
      "order": null,
      "overflow": null,
      "overflow_x": null,
      "overflow_y": null,
      "padding": null,
      "right": null,
      "top": null,
      "visibility": null,
      "width": null
     }
    },
    "5727d2d4af66401eaff4d6d2673eedab": {
     "model_module": "@jupyter-widgets/controls",
     "model_name": "ButtonStyleModel",
     "state": {
      "_model_module": "@jupyter-widgets/controls",
      "_model_module_version": "1.5.0",
      "_model_name": "ButtonStyleModel",
      "_view_count": null,
      "_view_module": "@jupyter-widgets/base",
      "_view_module_version": "1.2.0",
      "_view_name": "StyleView",
      "button_color": null,
      "font_weight": ""
     }
    },
    "8c9ed6ac0d314ca282f570074de0d735": {
     "model_module": "@jupyter-widgets/output",
     "model_name": "OutputModel",
     "state": {
      "_dom_classes": [],
      "_model_module": "@jupyter-widgets/output",
      "_model_module_version": "1.0.0",
      "_model_name": "OutputModel",
      "_view_count": null,
      "_view_module": "@jupyter-widgets/output",
      "_view_module_version": "1.0.0",
      "_view_name": "OutputView",
      "layout": "IPY_MODEL_f34b437a08a0402980b5dbd6a1d3a8c9",
      "msg_id": "",
      "outputs": [
       {
        "display_id": "061b68dbd75d4a4d11a148037f8d3dfb",
        "metadata": {
         "tags": []
        },
        "output_type": "display_data",
        "text/html": "\n    <div>\n        <style>\n            /* Turns off some styling */\n            progress {\n                /* gets rid of default border in Firefox and Opera. */\n                border: none;\n                /* Needs to be in here for Safari polyfill so background images work as expected. */\n                background-size: auto;\n            }\n            .progress-bar-interrupted, .progress-bar-interrupted::-webkit-progress-bar {\n                background: #F44336;\n            }\n        </style>\n      <progress value='0' class='' max='1', style='width:300px; height:20px; vertical-align: middle;'></progress>\n      \n    </div>\n    \n",
        "text/plain": "<IPython.core.display.HTML object>"
       },
       {
        "display_id": "061b68dbd75d4a4d11a148037f8d3dfb",
        "metadata": {
         "tags": []
        },
        "output_type": "display_data",
        "text/html": "\n    <div>\n        <style>\n            /* Turns off some styling */\n            progress {\n                /* gets rid of default border in Firefox and Opera. */\n                border: none;\n                /* Needs to be in here for Safari polyfill so background images work as expected. */\n                background-size: auto;\n            }\n            .progress-bar-interrupted, .progress-bar-interrupted::-webkit-progress-bar {\n                background: #F44336;\n            }\n        </style>\n      <progress value='0' class='' max='1', style='width:300px; height:20px; vertical-align: middle;'></progress>\n      0.00% [0/1 00:00<00:00]\n    </div>\n    \n\n\n    <div>\n        <style>\n            /* Turns off some styling */\n            progress {\n                /* gets rid of default border in Firefox and Opera. */\n                border: none;\n                /* Needs to be in here for Safari polyfill so background images work as expected. */\n                background-size: auto;\n            }\n            .progress-bar-interrupted, .progress-bar-interrupted::-webkit-progress-bar {\n                background: #F44336;\n            }\n        </style>\n      <progress value='0' class='' max='1', style='width:300px; height:20px; vertical-align: middle;'></progress>\n      0.00% [0/1 00:00<00:00]\n    </div>\n    ",
        "text/plain": "<IPython.core.display.HTML object>"
       },
       {
        "display_id": "061b68dbd75d4a4d11a148037f8d3dfb",
        "metadata": {
         "tags": []
        },
        "output_type": "display_data",
        "text/html": "\n    <div>\n        <style>\n            /* Turns off some styling */\n            progress {\n                /* gets rid of default border in Firefox and Opera. */\n                border: none;\n                /* Needs to be in here for Safari polyfill so background images work as expected. */\n                background-size: auto;\n            }\n            .progress-bar-interrupted, .progress-bar-interrupted::-webkit-progress-bar {\n                background: #F44336;\n            }\n        </style>\n      <progress value='0' class='' max='1', style='width:300px; height:20px; vertical-align: middle;'></progress>\n      0.00% [0/1 00:00<00:00]\n    </div>\n    \n\n\n    <div>\n        <style>\n            /* Turns off some styling */\n            progress {\n                /* gets rid of default border in Firefox and Opera. */\n                border: none;\n                /* Needs to be in here for Safari polyfill so background images work as expected. */\n                background-size: auto;\n            }\n            .progress-bar-interrupted, .progress-bar-interrupted::-webkit-progress-bar {\n                background: #F44336;\n            }\n        </style>\n      <progress value='1' class='' max='1', style='width:300px; height:20px; vertical-align: middle;'></progress>\n      100.00% [1/1 00:00<00:00]\n    </div>\n    ",
        "text/plain": "<IPython.core.display.HTML object>"
       },
       {
        "display_id": "061b68dbd75d4a4d11a148037f8d3dfb",
        "metadata": {
         "tags": []
        },
        "output_type": "display_data",
        "text/html": "",
        "text/plain": "<IPython.core.display.HTML object>"
       },
       {
        "metadata": {
         "tags": []
        },
        "output_type": "stream",
        "stream": "stdout",
        "text": "False\n"
       }
      ]
     }
    },
    "8fb97266fa8b4687a59caf783d5336ac": {
     "model_module": "@jupyter-widgets/controls",
     "model_name": "ButtonModel",
     "state": {
      "_dom_classes": [],
      "_model_module": "@jupyter-widgets/controls",
      "_model_module_version": "1.5.0",
      "_model_name": "ButtonModel",
      "_view_count": null,
      "_view_module": "@jupyter-widgets/controls",
      "_view_module_version": "1.5.0",
      "_view_name": "ButtonView",
      "button_style": "",
      "description": "Enter",
      "disabled": false,
      "icon": "",
      "layout": "IPY_MODEL_2e86d4c2627c46d0ba9056cfc6b22f0c",
      "style": "IPY_MODEL_5727d2d4af66401eaff4d6d2673eedab",
      "tooltip": ""
     }
    }
   }
  }
 },
 "nbformat": 4,
 "nbformat_minor": 4
}
